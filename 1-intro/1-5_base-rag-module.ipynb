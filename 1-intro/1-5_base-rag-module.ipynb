{
 "cells": [
  {
   "cell_type": "code",
   "execution_count": 1,
   "id": "958f9490-c350-479e-b8be-7ce4674deaef",
   "metadata": {},
   "outputs": [],
   "source": [
    "from openai import OpenAI\n",
    "import minsearch\n",
    "import json\n"
   ]
  },
  {
   "cell_type": "code",
   "execution_count": 2,
   "id": "b8eced9b-1819-46ff-ab87-c6474fac8042",
   "metadata": {},
   "outputs": [],
   "source": [
    "with open('documents.json','rt') as f_in:\n",
    "    docs_raw = json.load(f_in)\n",
    "\n",
    "documents = []\n",
    "\n",
    "for course_dict in docs_raw:\n",
    "    for doc in course_dict['documents']:\n",
    "        doc['course'] = course_dict['course']\n",
    "        documents.append(doc)"
   ]
  },
  {
   "cell_type": "code",
   "execution_count": 3,
   "id": "28d9a880-8911-42fc-b04f-e8177b7dbf3a",
   "metadata": {},
   "outputs": [],
   "source": [
    "index = minsearch.Index(\n",
    "    text_fields=[\"question\", \"text\", \"section\"],\n",
    "    keyword_fields=[\"course\"]\n",
    ")"
   ]
  },
  {
   "cell_type": "code",
   "execution_count": 4,
   "id": "f3eb5750-76f5-4643-9e2d-af05fca2b569",
   "metadata": {},
   "outputs": [
    {
     "data": {
      "text/plain": [
       "<minsearch.Index at 0x214965bfc10>"
      ]
     },
     "execution_count": 4,
     "metadata": {},
     "output_type": "execute_result"
    }
   ],
   "source": [
    "index.fit(documents)"
   ]
  },
  {
   "cell_type": "code",
   "execution_count": 5,
   "id": "ab53a10c-62cd-4dd2-8561-53fbede4b361",
   "metadata": {},
   "outputs": [],
   "source": [
    "def search(query):\n",
    "    boost = {\"question\": 3.0, \"section\": 0.5}\n",
    "    results = index.search(\n",
    "        query=query,\n",
    "        filter_dict={'course': 'data-engineering-zoomcamp'},\n",
    "        boost_dict= boost,\n",
    "        num_results = 5\n",
    "    )\n",
    "    return results"
   ]
  },
  {
   "cell_type": "code",
   "execution_count": 9,
   "id": "205a7760-1e93-4ab4-9077-a75da58aa8dc",
   "metadata": {},
   "outputs": [],
   "source": [
    "def build_prompt(query, search_results):\n",
    "    prompt_template = \"\"\"\n",
    "You're a course teaching assistant.Answer the QUESTION base on the CONTEXT from the FAQ database. \n",
    "Use only the facts from the CONTEST when answering the QUESTION.\n",
    "\n",
    "QUESTION: {question}\n",
    "CONTEST: {context}\n",
    "\"\"\".strip()\n",
    "\n",
    "    context = \"\"\n",
    "    for doc in search_results:\n",
    "        context = context + f\"section: {doc['section']}\\nquestion: {doc['question']}\\nanswer: {doc['text']}\\n\\n\"\n",
    "\n",
    "    prompt = prompt_template.format(question=query, context=context).strip()\n",
    "    return prompt"
   ]
  },
  {
   "cell_type": "code",
   "execution_count": 10,
   "id": "8953cb98-24dc-4728-adb9-059739d72a8e",
   "metadata": {},
   "outputs": [],
   "source": [
    "client = OpenAI()\n",
    "def llm(prompt):\n",
    "    response = client.chat.completions.create(\n",
    "        model='gpt-3.5-turbo',\n",
    "        messages=[{\"role\": \"user\", \"content\": prompt}]\n",
    "    )\n",
    "\n",
    "    return response.choices[0].message.content"
   ]
  },
  {
   "cell_type": "code",
   "execution_count": 11,
   "id": "0486fae3-7d23-4b2c-9ae8-51b0ea2044da",
   "metadata": {
    "scrolled": true
   },
   "outputs": [],
   "source": [
    "query = 'how do I run kafka'\n",
    "search_results = search(query)\n",
    "prompt = build_prompt('how do I run kafka',search_results)\n",
    "answer = llm(prompt)"
   ]
  },
  {
   "cell_type": "code",
   "execution_count": 12,
   "id": "617ca6ec-230d-411f-947d-919837d55f89",
   "metadata": {},
   "outputs": [
    {
     "name": "stdout",
     "output_type": "stream",
     "text": [
      "To run Kafka, in the project directory, you can use the following commands based on your specific situation:\n",
      "- For Java Kafka producer/consumer/kstreams, run:\n",
      "java -cp build/libs/<jar_name>-1.0-SNAPSHOT.jar:out src/main/java/org/example/JsonProducer.java\n",
      "\n",
      "- For Python Kafka if you encounter a \"Module 'kafka' not found\" error, create a virtual environment and run requirements.txt and the python files in that environment. Use the following commands:\n",
      "python -m venv env\n",
      "source env/bin/activate\n",
      "pip install -r ../requirements.txt\n",
      "\n",
      "- If you're working on Workshop 1 - dlthub and need to install necessary dependencies, ensure 'dlt[duckdb]' package is installed. Use:\n",
      "!pip install dlt[duckdb]\n",
      "\n",
      "- In case you face a Permission denied error when running ./build.sh, run:\n",
      "chmod +x build.sh\n",
      "\n",
      "- If you encounter the error \"ModuleNotFoundError: No module named 'kafka.vendor.six.moves'\", it is suggested to use the kafka-python-ng library temporarily instead of kafka-python with the command:\n",
      "pip install kafka-python-ng.\n"
     ]
    }
   ],
   "source": [
    "print(answer)"
   ]
  },
  {
   "cell_type": "markdown",
   "id": "b8e0045b-af41-4d09-8218-5351133bedb6",
   "metadata": {},
   "source": [
    "## 最後整個打包成RAG ->"
   ]
  },
  {
   "cell_type": "code",
   "execution_count": 13,
   "id": "cd6209a2-b677-40a4-8c78-5857429c525a",
   "metadata": {},
   "outputs": [],
   "source": [
    "def rag(query):\n",
    "    search_results = search(query)\n",
    "    prompt = build_prompt(query, search_results)\n",
    "    answer = llm(prompt)\n",
    "    return answer"
   ]
  },
  {
   "cell_type": "code",
   "execution_count": 14,
   "id": "6ce4e507-0c50-4b67-ba4c-d94180fe35b5",
   "metadata": {},
   "outputs": [
    {
     "name": "stdout",
     "output_type": "stream",
     "text": [
      "Yes, even if the course has already started, you can still enroll and participate. You will be eligible to submit the homework assignments, but make sure to keep up with the deadlines for turning in the final projects. If you join after the start date, you can also follow the course at your own pace after it finishes and continue working on the materials and assignments. Just make sure to stay updated with the course announcements and resources provided.\n"
     ]
    }
   ],
   "source": [
    "query = 'the course has already started, can I still enroll?'\n",
    "print(rag(query))"
   ]
  },
  {
   "cell_type": "code",
   "execution_count": null,
   "id": "d5d5d105-e0e4-4f1f-8a1e-306844a654bd",
   "metadata": {},
   "outputs": [],
   "source": []
  }
 ],
 "metadata": {
  "kernelspec": {
   "display_name": "Python 3 (ipykernel)",
   "language": "python",
   "name": "python3"
  },
  "language_info": {
   "codemirror_mode": {
    "name": "ipython",
    "version": 3
   },
   "file_extension": ".py",
   "mimetype": "text/x-python",
   "name": "python",
   "nbconvert_exporter": "python",
   "pygments_lexer": "ipython3",
   "version": "3.10.14"
  }
 },
 "nbformat": 4,
 "nbformat_minor": 5
}
