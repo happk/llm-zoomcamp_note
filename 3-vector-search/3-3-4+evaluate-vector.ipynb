{
 "cells": [
  {
   "cell_type": "code",
   "execution_count": 1,
   "id": "8456b5b6-185b-440b-ab98-1822aac2fe4f",
   "metadata": {},
   "outputs": [],
   "source": [
    "import json\n",
    "\n",
    "with open('documents-with-ids.json', 'rt') as f_in:\n",
    "    documents = json.load(f_in)"
   ]
  },
  {
   "cell_type": "code",
   "execution_count": null,
   "id": "426d961b",
   "metadata": {},
   "outputs": [],
   "source": [
    "import os\n",
    "os.environ['HF_HOME'] = '../../models/'"
   ]
  },
  {
   "cell_type": "code",
   "execution_count": 3,
   "id": "5833e987-21f5-4788-8609-d32410bc7b10",
   "metadata": {},
   "outputs": [],
   "source": [
    "from sentence_transformers import SentenceTransformer"
   ]
  },
  {
   "cell_type": "code",
   "execution_count": 4,
   "id": "3e482cd0-0202-4a89-854d-90b50c75e520",
   "metadata": {},
   "outputs": [
    {
     "data": {
      "application/vnd.jupyter.widget-view+json": {
       "model_id": "cb5c4c18cc3441feb88ea3eea81df0fe",
       "version_major": 2,
       "version_minor": 0
      },
      "text/plain": [
       "modules.json:   0%|          | 0.00/349 [00:00<?, ?B/s]"
      ]
     },
     "metadata": {},
     "output_type": "display_data"
    },
    {
     "name": "stderr",
     "output_type": "stream",
     "text": [
      "C:\\Users\\eric\\AppData\\Roaming\\Python\\Python310\\site-packages\\huggingface_hub\\file_download.py:157: UserWarning: `huggingface_hub` cache-system uses symlinks by default to efficiently store duplicated files but your machine does not support them in D:\\Desktop\\work\\study\\models\\hub\\models--sentence-transformers--multi-qa-MiniLM-L6-cos-v1. Caching files will still work but in a degraded version that might require more space on your disk. This warning can be disabled by setting the `HF_HUB_DISABLE_SYMLINKS_WARNING` environment variable. For more details, see https://huggingface.co/docs/huggingface_hub/how-to-cache#limitations.\n",
      "To support symlinks on Windows, you either need to activate Developer Mode or to run Python as an administrator. In order to see activate developer mode, see this article: https://docs.microsoft.com/en-us/windows/apps/get-started/enable-your-device-for-development\n",
      "  warnings.warn(message)\n"
     ]
    },
    {
     "data": {
      "application/vnd.jupyter.widget-view+json": {
       "model_id": "c56b2dab56e44d7f8643381e3c7aca5e",
       "version_major": 2,
       "version_minor": 0
      },
      "text/plain": [
       "config_sentence_transformers.json:   0%|          | 0.00/116 [00:00<?, ?B/s]"
      ]
     },
     "metadata": {},
     "output_type": "display_data"
    },
    {
     "data": {
      "application/vnd.jupyter.widget-view+json": {
       "model_id": "411eb7db00d34dcfaca8756cc5a0b369",
       "version_major": 2,
       "version_minor": 0
      },
      "text/plain": [
       "README.md:   0%|          | 0.00/11.6k [00:00<?, ?B/s]"
      ]
     },
     "metadata": {},
     "output_type": "display_data"
    },
    {
     "data": {
      "application/vnd.jupyter.widget-view+json": {
       "model_id": "8b8499adbb09410c98c19d47bcbed274",
       "version_major": 2,
       "version_minor": 0
      },
      "text/plain": [
       "sentence_bert_config.json:   0%|          | 0.00/53.0 [00:00<?, ?B/s]"
      ]
     },
     "metadata": {},
     "output_type": "display_data"
    },
    {
     "data": {
      "application/vnd.jupyter.widget-view+json": {
       "model_id": "bb39f2080400407fb3a857d1a4e3de17",
       "version_major": 2,
       "version_minor": 0
      },
      "text/plain": [
       "config.json:   0%|          | 0.00/612 [00:00<?, ?B/s]"
      ]
     },
     "metadata": {},
     "output_type": "display_data"
    },
    {
     "data": {
      "application/vnd.jupyter.widget-view+json": {
       "model_id": "5b7fa7df51aa4d42a9be509e7b583748",
       "version_major": 2,
       "version_minor": 0
      },
      "text/plain": [
       "model.safetensors:   0%|          | 0.00/90.9M [00:00<?, ?B/s]"
      ]
     },
     "metadata": {},
     "output_type": "display_data"
    },
    {
     "data": {
      "application/vnd.jupyter.widget-view+json": {
       "model_id": "9f4cce5786b44f80a51547fb1e8932af",
       "version_major": 2,
       "version_minor": 0
      },
      "text/plain": [
       "tokenizer_config.json:   0%|          | 0.00/383 [00:00<?, ?B/s]"
      ]
     },
     "metadata": {},
     "output_type": "display_data"
    },
    {
     "data": {
      "application/vnd.jupyter.widget-view+json": {
       "model_id": "06767243159342b48e77caddc94590e3",
       "version_major": 2,
       "version_minor": 0
      },
      "text/plain": [
       "vocab.txt:   0%|          | 0.00/232k [00:00<?, ?B/s]"
      ]
     },
     "metadata": {},
     "output_type": "display_data"
    },
    {
     "data": {
      "application/vnd.jupyter.widget-view+json": {
       "model_id": "db06fa314af4447db042c711a9ca98b1",
       "version_major": 2,
       "version_minor": 0
      },
      "text/plain": [
       "tokenizer.json:   0%|          | 0.00/466k [00:00<?, ?B/s]"
      ]
     },
     "metadata": {},
     "output_type": "display_data"
    },
    {
     "data": {
      "application/vnd.jupyter.widget-view+json": {
       "model_id": "5a54cdb644e5453bb89879e25977b32b",
       "version_major": 2,
       "version_minor": 0
      },
      "text/plain": [
       "special_tokens_map.json:   0%|          | 0.00/112 [00:00<?, ?B/s]"
      ]
     },
     "metadata": {},
     "output_type": "display_data"
    },
    {
     "data": {
      "application/vnd.jupyter.widget-view+json": {
       "model_id": "a1a9c22d2a57460b8afd3d2a672c1885",
       "version_major": 2,
       "version_minor": 0
      },
      "text/plain": [
       "1_Pooling/config.json:   0%|          | 0.00/190 [00:00<?, ?B/s]"
      ]
     },
     "metadata": {},
     "output_type": "display_data"
    }
   ],
   "source": [
    "model_name = 'multi-qa-MiniLM-L6-cos-v1'\n",
    "model = SentenceTransformer(model_name)"
   ]
  },
  {
   "cell_type": "code",
   "execution_count": 26,
   "id": "341b331f-e3aa-41b7-91a2-b42cd3a57c2e",
   "metadata": {},
   "outputs": [],
   "source": [
    "v = model.encode('I just discovered the course. Can I still join?')"
   ]
  },
  {
   "cell_type": "code",
   "execution_count": 27,
   "id": "5783a592-5d76-44ee-89a7-05615ef966bf",
   "metadata": {},
   "outputs": [
    {
     "data": {
      "text/plain": [
       "384"
      ]
     },
     "execution_count": 27,
     "metadata": {},
     "output_type": "execute_result"
    }
   ],
   "source": [
    "len(v)"
   ]
  },
  {
   "cell_type": "code",
   "execution_count": 23,
   "id": "bc00fea5",
   "metadata": {},
   "outputs": [
    {
     "data": {
      "text/plain": [
       "array([ 1.98574085e-02, -4.28261161e-02, -1.37881264e-02,  1.08630294e-02,\n",
       "        3.09005622e-02,  3.21315490e-02, -7.18223602e-02, -7.81575590e-02,\n",
       "       -6.84270859e-02, -2.85438225e-02, -5.20569831e-03,  6.21424951e-02,\n",
       "        2.62571815e-02,  6.14669286e-02,  6.96766898e-02, -4.98885848e-02,\n",
       "       -1.11087538e-01, -3.57964709e-02, -8.70047486e-04,  5.98688377e-04,\n",
       "       -1.62657708e-01,  3.64230759e-02, -4.32450250e-02,  4.14371714e-02,\n",
       "        4.00097407e-02, -3.95695902e-02,  4.45245504e-02, -1.28019704e-02,\n",
       "        3.12811136e-02, -1.98631175e-02, -8.70976038e-03,  1.00467568e-02,\n",
       "        7.40098907e-03,  3.90874296e-02,  2.24166941e-02,  2.42384747e-02,\n",
       "        4.89458616e-04, -5.63729033e-02,  1.82965305e-04,  7.15050148e-03,\n",
       "       -6.92926394e-03, -4.38260101e-02,  2.73502013e-03,  2.74455957e-02,\n",
       "        3.71798389e-02,  5.44063076e-02, -2.14027204e-02, -6.50845468e-02,\n",
       "        3.53151411e-02,  7.90617615e-02,  6.15010224e-03, -1.06485993e-01,\n",
       "       -1.24365166e-02, -2.68018972e-02, -2.26226635e-02,  1.63412765e-01,\n",
       "       -3.04708853e-02,  1.54671166e-02, -1.01813845e-01,  6.93427101e-02,\n",
       "        2.77339295e-03, -9.65379272e-03, -4.68680039e-02, -3.94054252e-04,\n",
       "       -5.32595403e-02, -4.74993140e-03, -4.06376719e-02,  7.42224529e-02,\n",
       "        7.74858445e-02,  1.94518454e-02,  2.70049199e-02, -4.30686725e-03,\n",
       "        1.39708621e-02,  3.42647471e-02,  8.94273594e-02,  4.23215777e-02,\n",
       "       -1.40032475e-03, -4.77491086e-03,  9.83736962e-02, -1.20400973e-02,\n",
       "       -2.78560184e-02,  7.75666237e-02, -1.57268438e-02,  2.29128473e-03,\n",
       "        1.39299799e-02, -4.62736599e-02,  2.38256063e-02,  1.92773398e-02,\n",
       "        5.38270622e-02, -2.12252904e-02,  5.77211613e-03, -3.59762460e-02,\n",
       "       -2.73372680e-02, -1.68942586e-02, -6.34030625e-03,  3.85605767e-02,\n",
       "        2.69484706e-02,  5.38284099e-03,  8.05068947e-03,  5.42691201e-02,\n",
       "       -7.50042722e-02,  4.23202887e-02, -3.81066762e-02, -2.80337054e-02,\n",
       "       -7.70656466e-02,  2.09065545e-02,  5.18674999e-02,  6.96838573e-02,\n",
       "        1.23897180e-01, -1.36918752e-02,  3.71405594e-02, -4.18999960e-04,\n",
       "        6.13002256e-02,  4.53214440e-03, -2.00178921e-02,  6.18430264e-02,\n",
       "       -5.29544950e-02,  6.68332502e-02,  4.24375981e-02, -2.53262394e-03,\n",
       "       -2.66143847e-02,  2.83139572e-02,  6.02174476e-02,  8.24238115e-04,\n",
       "       -4.87897769e-02, -1.13387190e-01, -2.56075766e-02,  1.66017080e-30,\n",
       "       -2.52865702e-02, -4.76445490e-03,  1.70899164e-02, -2.63022929e-02,\n",
       "        3.21065523e-02, -5.78014255e-02,  2.88445447e-02,  8.23974237e-03,\n",
       "       -5.64072020e-02, -1.18208835e-02, -6.80564949e-03,  6.82845293e-03,\n",
       "        2.83686612e-02, -6.25282601e-02,  3.77497263e-02, -2.76397709e-02,\n",
       "        6.99959276e-03, -3.44405770e-02,  2.01951526e-02, -2.84467395e-02,\n",
       "        6.14636205e-02, -1.52142728e-02,  6.03623781e-03, -2.30520647e-02,\n",
       "       -6.22973545e-03,  2.82837544e-02,  7.80819077e-03,  1.42933363e-02,\n",
       "        9.20318440e-02,  4.21012118e-02,  1.81849338e-02,  3.01707145e-02,\n",
       "       -1.86027125e-01, -2.37683742e-03,  2.84743030e-02,  1.93433035e-02,\n",
       "        7.30008110e-02,  1.22379223e-02,  5.02089523e-02, -4.52675521e-02,\n",
       "       -1.98298674e-02, -2.81439479e-02,  4.98767048e-02, -6.38273507e-02,\n",
       "       -1.44828139e-02,  1.47960400e-02,  8.39366913e-02, -6.54108971e-02,\n",
       "        2.85380911e-02,  3.89866368e-03, -7.70504400e-02, -7.43016973e-02,\n",
       "        3.30402255e-02, -7.17334673e-02, -1.82158016e-02, -9.84879304e-03,\n",
       "       -1.09295538e-02,  1.00152813e-01, -2.49354467e-02, -2.76352204e-02,\n",
       "        2.69482303e-02,  2.66751591e-02, -7.65046924e-02,  1.27441794e-01,\n",
       "       -1.20977089e-01,  3.99633348e-02, -4.60633002e-02, -8.69913995e-02,\n",
       "        7.04133958e-02, -5.89665696e-02, -1.03972659e-01, -1.19565651e-02,\n",
       "       -1.10870831e-01, -3.14899662e-04,  7.48201925e-03, -1.27016371e-02,\n",
       "       -3.09965052e-02, -3.39245191e-03,  1.33721486e-01, -2.34893728e-02,\n",
       "        2.93030757e-02, -8.15020967e-03, -2.03439686e-02,  3.22435498e-02,\n",
       "        1.99421383e-02,  1.89913828e-02,  7.59567469e-02, -7.52315717e-03,\n",
       "        3.99525799e-02,  5.48813790e-02, -8.57595876e-02,  6.94650412e-03,\n",
       "       -1.47358337e-02,  4.93436120e-02,  7.17767924e-02, -1.98094069e-33,\n",
       "        3.61175947e-02, -2.06966233e-02,  3.63237597e-02, -6.63895383e-02,\n",
       "        2.55917814e-02, -2.04926394e-02,  7.75563344e-02,  2.71485979e-03,\n",
       "       -1.57321580e-02,  4.06499319e-02,  6.47412911e-02,  3.96926282e-03,\n",
       "       -1.20585486e-02,  4.10540216e-02,  1.28898779e-02, -1.89368315e-02,\n",
       "       -8.64141136e-02,  9.62233171e-03, -5.63177504e-02, -6.46594353e-03,\n",
       "       -3.85324843e-02, -5.88183105e-03,  1.42828263e-02, -6.62766621e-02,\n",
       "        5.98451495e-02,  4.31890367e-03,  9.72868502e-02,  8.75893887e-03,\n",
       "        1.03689441e-02,  1.53822601e-02,  9.99744162e-02, -3.62330265e-02,\n",
       "       -1.09229878e-01, -7.70549327e-02,  2.70482320e-02,  2.31882557e-02,\n",
       "       -9.42999590e-03, -4.68003713e-02, -5.55401184e-02, -2.46492792e-02,\n",
       "       -3.25809885e-03, -7.36768097e-02, -1.47389071e-02, -1.09065808e-02,\n",
       "        1.91769060e-02,  6.26512766e-02,  7.68464431e-02, -3.73688079e-02,\n",
       "       -6.15830394e-03,  2.52971034e-02, -4.09759097e-02,  1.04374541e-02,\n",
       "       -1.26940971e-02, -1.15361832e-01,  7.46203884e-02,  2.08519921e-02,\n",
       "       -2.31417995e-02, -1.48632638e-02, -1.84130005e-03, -1.16576897e-02,\n",
       "        6.25977293e-02,  3.55987586e-02, -1.27617782e-02,  1.41069982e-02,\n",
       "        9.74768549e-02,  3.39540355e-02, -7.76993390e-03,  1.37029797e-01,\n",
       "       -5.04991785e-02,  4.38267253e-02, -4.46929932e-02,  7.02231564e-03,\n",
       "       -3.28227133e-02, -5.37237711e-02,  3.25775445e-02, -7.03426674e-02,\n",
       "       -7.58897793e-03,  3.96972559e-02, -2.45934483e-02, -2.49714050e-02,\n",
       "       -1.17813610e-02, -5.00870636e-03, -6.12896569e-02,  9.22954001e-04,\n",
       "        1.15698360e-01,  1.00050427e-01,  5.40730320e-02, -3.65529326e-03,\n",
       "        2.29513384e-02,  1.95866209e-02,  5.40529117e-02, -4.08082902e-02,\n",
       "        7.93056265e-02, -1.20919128e-03, -2.58712508e-02, -6.98760421e-33,\n",
       "       -4.05937880e-02, -1.25012696e-02, -5.58783719e-03, -1.70293357e-02,\n",
       "        2.14388850e-03,  1.84564460e-02, -9.97854546e-02,  2.49386244e-02,\n",
       "       -1.19308550e-02,  1.49112985e-01, -7.77349398e-02,  1.91746000e-02,\n",
       "        8.73002503e-03,  3.54855694e-02, -8.98384955e-04, -3.66373046e-04,\n",
       "        6.22816421e-02, -4.71425563e-04,  1.74140581e-03,  1.22859329e-02,\n",
       "       -7.96635752e-04,  1.27071207e-02, -1.96064524e-02,  1.90190058e-02,\n",
       "       -8.34218040e-02,  1.74061507e-02,  3.87128890e-02, -1.24192862e-02,\n",
       "       -4.22616750e-02, -4.95858607e-04, -2.48771347e-02,  1.04672192e-02,\n",
       "       -1.87035296e-02,  2.26987619e-02,  4.13983352e-02, -1.27739802e-01,\n",
       "       -8.72963481e-03,  2.20743082e-02,  3.20723988e-02,  4.96564694e-02,\n",
       "       -1.06973596e-01,  3.81475277e-02,  1.14595219e-01,  1.53071970e-01,\n",
       "        4.88106310e-02,  4.75917011e-02, -1.75535120e-03, -4.68573580e-03,\n",
       "        2.50204708e-02,  7.45101226e-03, -4.58066650e-02,  5.30577525e-02,\n",
       "       -8.14469382e-02, -9.90196913e-02,  1.56983845e-02,  3.69474664e-02,\n",
       "        3.33376750e-02, -2.01308969e-02, -1.49309263e-01, -4.43351828e-03,\n",
       "       -9.31956060e-03, -1.08267732e-01, -5.54173179e-02, -3.83819900e-02],\n",
       "      dtype=float32)"
      ]
     },
     "execution_count": 23,
     "metadata": {},
     "output_type": "execute_result"
    }
   ],
   "source": [
    "v"
   ]
  },
  {
   "cell_type": "code",
   "execution_count": 28,
   "id": "54c40bee",
   "metadata": {},
   "outputs": [
    {
     "data": {
      "text/plain": [
       "1.0"
      ]
     },
     "execution_count": 28,
     "metadata": {},
     "output_type": "execute_result"
    }
   ],
   "source": [
    "v.dot(v) # es 在用dot product計算相似度的方法\n",
    "# 此時自己跟自己的相似度是1"
   ]
  },
  {
   "cell_type": "code",
   "execution_count": 7,
   "id": "620ed5a1-cc06-40a3-8627-891aed525cba",
   "metadata": {},
   "outputs": [
    {
     "data": {
      "text/plain": [
       "ObjectApiResponse({'acknowledged': True, 'shards_acknowledged': True, 'index': 'course-questions'})"
      ]
     },
     "execution_count": 7,
     "metadata": {},
     "output_type": "execute_result"
    }
   ],
   "source": [
    "from elasticsearch import Elasticsearch\n",
    "\n",
    "es_client = Elasticsearch('http://localhost:9200') \n",
    "\n",
    "index_settings = {\n",
    "    \"settings\": {\n",
    "        \"number_of_shards\": 1,\n",
    "        \"number_of_replicas\": 0\n",
    "    },\n",
    "    \"mappings\": {\n",
    "        \"properties\": {\n",
    "            \"text\": {\"type\": \"text\"},\n",
    "            \"section\": {\"type\": \"text\"},\n",
    "            \"question\": {\"type\": \"text\"},\n",
    "            \"course\": {\"type\": \"keyword\"},\n",
    "            \"id\": {\"type\": \"keyword\"},\n",
    "            \"question_vector\": {\n",
    "                \"type\": \"dense_vector\",\n",
    "                \"dims\": 384,\n",
    "                \"index\": True,\n",
    "                \"similarity\": \"cosine\"\n",
    "            },\n",
    "            \"text_vector\": {\n",
    "                \"type\": \"dense_vector\",\n",
    "                \"dims\": 384,\n",
    "                \"index\": True,\n",
    "                \"similarity\": \"cosine\"\n",
    "            },\n",
    "            \"question_text_vector\": {\n",
    "                \"type\": \"dense_vector\",\n",
    "                \"dims\": 384,\n",
    "                \"index\": True,\n",
    "                \"similarity\": \"cosine\"\n",
    "            },\n",
    "        }\n",
    "    }\n",
    "}\n",
    "\n",
    "index_name = \"course-questions\"\n",
    "\n",
    "es_client.indices.delete(index=index_name, ignore_unavailable=True)\n",
    "es_client.indices.create(index=index_name, body=index_settings)"
   ]
  },
  {
   "cell_type": "code",
   "execution_count": 8,
   "id": "91721a90-96d6-4ef9-8baf-a3d42c4b03e1",
   "metadata": {},
   "outputs": [],
   "source": [
    "from tqdm.auto import tqdm"
   ]
  },
  {
   "cell_type": "code",
   "execution_count": 9,
   "id": "ad8a4ba1-35d8-4650-9267-86afabef7386",
   "metadata": {},
   "outputs": [
    {
     "data": {
      "application/vnd.jupyter.widget-view+json": {
       "model_id": "5a2357a0b9844e12886965f40dec862b",
       "version_major": 2,
       "version_minor": 0
      },
      "text/plain": [
       "  0%|          | 0/948 [00:00<?, ?it/s]"
      ]
     },
     "metadata": {},
     "output_type": "display_data"
    }
   ],
   "source": [
    "for doc in tqdm(documents):\n",
    "    question = doc['question']\n",
    "    text = doc['text']\n",
    "    qt = question + ' ' + text\n",
    "\n",
    "    doc['question_vector'] = model.encode(question)\n",
    "    doc['text_vector'] = model.encode(text)\n",
    "    doc['question_text_vector'] = model.encode(qt)"
   ]
  },
  {
   "cell_type": "code",
   "execution_count": 10,
   "id": "d5b27abe-a0c2-426c-9780-3b1c0534dbe6",
   "metadata": {},
   "outputs": [
    {
     "data": {
      "application/vnd.jupyter.widget-view+json": {
       "model_id": "249e31c38c9d4ad1b28e199877b2540b",
       "version_major": 2,
       "version_minor": 0
      },
      "text/plain": [
       "  0%|          | 0/948 [00:00<?, ?it/s]"
      ]
     },
     "metadata": {},
     "output_type": "display_data"
    }
   ],
   "source": [
    "for doc in tqdm(documents):\n",
    "    es_client.index(index=index_name, document=doc)"
   ]
  },
  {
   "cell_type": "code",
   "execution_count": 11,
   "id": "82a78984-1440-4195-9513-106109013fce",
   "metadata": {},
   "outputs": [],
   "source": [
    "query = 'I just discovered the course. Can I still join it?'"
   ]
  },
  {
   "cell_type": "code",
   "execution_count": 12,
   "id": "8a5ac3e8-8d75-48f6-8d3c-0b25d227d1f2",
   "metadata": {},
   "outputs": [],
   "source": [
    "v_q = model.encode(query)"
   ]
  },
  {
   "cell_type": "code",
   "execution_count": 13,
   "id": "ecba8e3b-7f61-402c-8106-62bde9eb1746",
   "metadata": {},
   "outputs": [],
   "source": [
    "def elastic_search_knn(field, vector, course):\n",
    "    knn = {\n",
    "        \"field\": field,\n",
    "        \"query_vector\": vector,\n",
    "        \"k\": 5,\n",
    "        \"num_candidates\": 10000,\n",
    "        \"filter\": {\n",
    "            \"term\": {\n",
    "                \"course\": course\n",
    "            }\n",
    "        }\n",
    "    }\n",
    "\n",
    "    search_query = {\n",
    "        \"knn\": knn,\n",
    "        \"_source\": [\"text\", \"section\", \"question\", \"course\", \"id\"]\n",
    "    }\n",
    "\n",
    "    es_results = es_client.search(\n",
    "        index=index_name,\n",
    "        body=search_query\n",
    "    )\n",
    "    \n",
    "    result_docs = []\n",
    "    \n",
    "    for hit in es_results['hits']['hits']:\n",
    "        result_docs.append(hit['_source'])\n",
    "\n",
    "    return result_docs"
   ]
  },
  {
   "cell_type": "code",
   "execution_count": 14,
   "id": "cc09b90a-a88b-4678-a613-eb68e16136d5",
   "metadata": {},
   "outputs": [],
   "source": [
    "def question_vector_knn(q):\n",
    "    question = q['question']\n",
    "    course = q['course']\n",
    "\n",
    "    v_q = model.encode(question)\n",
    "\n",
    "    return elastic_search_knn('question_vector', v_q, course)"
   ]
  },
  {
   "cell_type": "code",
   "execution_count": 15,
   "id": "163d5e97-e1b7-45e1-ba1e-61fca4fc37a9",
   "metadata": {},
   "outputs": [],
   "source": [
    "import pandas as pd"
   ]
  },
  {
   "cell_type": "code",
   "execution_count": 16,
   "id": "e3da963b-cd17-471b-9cff-7f8c4276b915",
   "metadata": {},
   "outputs": [],
   "source": [
    "df_ground_truth = pd.read_csv('ground-truth-data.csv')"
   ]
  },
  {
   "cell_type": "code",
   "execution_count": 17,
   "id": "d53d3beb-d699-46c8-bc85-953afc4ef48d",
   "metadata": {},
   "outputs": [],
   "source": [
    "ground_truth = df_ground_truth.to_dict(orient='records')"
   ]
  },
  {
   "cell_type": "code",
   "execution_count": 18,
   "id": "0deced29-bae5-4b6c-b2b8-53ce46b4f8ab",
   "metadata": {},
   "outputs": [
    {
     "data": {
      "text/plain": [
       "{'question': 'When does the course begin?',\n",
       " 'course': 'data-engineering-zoomcamp',\n",
       " 'document': 'c02e79ef'}"
      ]
     },
     "execution_count": 18,
     "metadata": {},
     "output_type": "execute_result"
    }
   ],
   "source": [
    "ground_truth[0]"
   ]
  },
  {
   "cell_type": "code",
   "execution_count": 19,
   "id": "8959c9ff-5bbe-4729-8fa3-cdc51ed10f5f",
   "metadata": {},
   "outputs": [],
   "source": [
    "def hit_rate(relevance_total):\n",
    "    cnt = 0\n",
    "\n",
    "    for line in relevance_total:\n",
    "        if True in line:\n",
    "            cnt = cnt + 1\n",
    "\n",
    "    return cnt / len(relevance_total)"
   ]
  },
  {
   "cell_type": "code",
   "execution_count": 20,
   "id": "842255b5-18f2-4102-9689-a5835e0a621c",
   "metadata": {},
   "outputs": [],
   "source": [
    "def mrr(relevance_total):\n",
    "    total_score = 0.0\n",
    "\n",
    "    for line in relevance_total:\n",
    "        for rank in range(len(line)):\n",
    "            if line[rank] == True:\n",
    "                total_score = total_score + 1 / (rank + 1)\n",
    "\n",
    "    return total_score / len(relevance_total)"
   ]
  },
  {
   "cell_type": "code",
   "execution_count": 21,
   "id": "f11baaff-43d9-4b8c-a896-561b86e85743",
   "metadata": {},
   "outputs": [],
   "source": [
    "def evaluate(ground_truth, search_function):\n",
    "    relevance_total = []\n",
    "\n",
    "    for q in tqdm(ground_truth):\n",
    "        doc_id = q['document']\n",
    "        results = search_function(q)\n",
    "        relevance = [d['id'] == doc_id for d in results]\n",
    "        relevance_total.append(relevance)\n",
    "\n",
    "    return {\n",
    "        'hit_rate': hit_rate(relevance_total),\n",
    "        'mrr': mrr(relevance_total),\n",
    "    }"
   ]
  },
  {
   "cell_type": "code",
   "execution_count": 22,
   "id": "f1d3530e-1406-49dd-bba9-914f6a39d7f2",
   "metadata": {},
   "outputs": [
    {
     "data": {
      "application/vnd.jupyter.widget-view+json": {
       "model_id": "667240c565204700911783b237d99115",
       "version_major": 2,
       "version_minor": 0
      },
      "text/plain": [
       "  0%|          | 0/4627 [00:00<?, ?it/s]"
      ]
     },
     "metadata": {},
     "output_type": "display_data"
    },
    {
     "data": {
      "text/plain": [
       "{'hit_rate': 0.773071104387292, 'mrr': 0.6666810748505158}"
      ]
     },
     "execution_count": 22,
     "metadata": {},
     "output_type": "execute_result"
    }
   ],
   "source": [
    "evaluate(ground_truth, question_vector_knn)"
   ]
  },
  {
   "cell_type": "markdown",
   "id": "3aa5eb82-27df-4577-a2e2-23971f2fa964",
   "metadata": {},
   "source": [
    "ES text only: 0.7395720769397017, 0.6032418413658963"
   ]
  },
  {
   "cell_type": "code",
   "execution_count": 29,
   "id": "e87f0987-02e9-4e2c-a091-14a75c9ce58d",
   "metadata": {},
   "outputs": [],
   "source": [
    "def text_vector_knn(q):\n",
    "    question = q['question']\n",
    "    course = q['course']\n",
    "\n",
    "    v_q = model.encode(question)\n",
    "\n",
    "    return elastic_search_knn('text_vector', v_q, course)"
   ]
  },
  {
   "cell_type": "code",
   "execution_count": 30,
   "id": "d676bd5e-4abc-4799-bb37-c1a86b3b9872",
   "metadata": {},
   "outputs": [
    {
     "data": {
      "application/vnd.jupyter.widget-view+json": {
       "model_id": "5e2bea3adf3443efafd3ca06b8bb1f51",
       "version_major": 2,
       "version_minor": 0
      },
      "text/plain": [
       "  0%|          | 0/4627 [00:00<?, ?it/s]"
      ]
     },
     "metadata": {},
     "output_type": "display_data"
    },
    {
     "data": {
      "text/plain": [
       "{'hit_rate': 0.8286146531229739, 'mrr': 0.7062315395144454}"
      ]
     },
     "execution_count": 30,
     "metadata": {},
     "output_type": "execute_result"
    }
   ],
   "source": [
    "evaluate(ground_truth, text_vector_knn)"
   ]
  },
  {
   "cell_type": "code",
   "execution_count": 31,
   "id": "13a47c3e-036a-4212-912c-a61de0daf6cd",
   "metadata": {},
   "outputs": [
    {
     "data": {
      "application/vnd.jupyter.widget-view+json": {
       "model_id": "8b75645f0b4f4d7bbe8f69edf0f52d2f",
       "version_major": 2,
       "version_minor": 0
      },
      "text/plain": [
       "  0%|          | 0/4627 [00:00<?, ?it/s]"
      ]
     },
     "metadata": {},
     "output_type": "display_data"
    },
    {
     "data": {
      "text/plain": [
       "{'hit_rate': 0.9172249837907932, 'mrr': 0.824306606152295}"
      ]
     },
     "execution_count": 31,
     "metadata": {},
     "output_type": "execute_result"
    }
   ],
   "source": [
    "def question_text_vector_knn(q):\n",
    "    question = q['question']\n",
    "    course = q['course']\n",
    "\n",
    "    v_q = model.encode(question)\n",
    "\n",
    "    return elastic_search_knn('question_text_vector', v_q, course)\n",
    "\n",
    "evaluate(ground_truth, question_text_vector_knn)"
   ]
  },
  {
   "cell_type": "code",
   "execution_count": 32,
   "id": "20f4d5f5-617d-4e89-8cc1-4acaed270be4",
   "metadata": {},
   "outputs": [],
   "source": [
    "def elastic_search_knn_combined(vector, course):\n",
    "    search_query = {\n",
    "        \"size\": 5,\n",
    "        \"query\": {\n",
    "            \"bool\": {\n",
    "                \"must\": [\n",
    "                    {\n",
    "                        \"script_score\": {\n",
    "                            \"query\": {\n",
    "                                \"term\": {\n",
    "                                    \"course\": course\n",
    "                                }\n",
    "                            },\n",
    "                            \"script\": {\n",
    "                                \"source\": \"\"\"\n",
    "                                    cosineSimilarity(params.query_vector, 'question_vector') + \n",
    "                                    cosineSimilarity(params.query_vector, 'text_vector') + \n",
    "                                    cosineSimilarity(params.query_vector, 'question_text_vector') + \n",
    "                                    1\n",
    "                                \"\"\",\n",
    "                                \"params\": {\n",
    "                                    \"query_vector\": vector\n",
    "                                }\n",
    "                            }\n",
    "                        }\n",
    "                    }\n",
    "                ],\n",
    "                \"filter\": {\n",
    "                    \"term\": {\n",
    "                        \"course\": course\n",
    "                    }\n",
    "                }\n",
    "            }\n",
    "        },\n",
    "        \"_source\": [\"text\", \"section\", \"question\", \"course\", \"id\"]\n",
    "    }\n",
    "\n",
    "    es_results = es_client.search(\n",
    "        index=index_name,\n",
    "        body=search_query\n",
    "    )\n",
    "    \n",
    "    result_docs = []\n",
    "    \n",
    "    for hit in es_results['hits']['hits']:\n",
    "        result_docs.append(hit['_source'])\n",
    "\n",
    "    return result_docs"
   ]
  },
  {
   "cell_type": "code",
   "execution_count": 33,
   "id": "7ba72a59-7d0e-4d61-90c4-008e6341f7dd",
   "metadata": {},
   "outputs": [
    {
     "data": {
      "application/vnd.jupyter.widget-view+json": {
       "model_id": "33bfbb684758491680a34514a3125ad5",
       "version_major": 2,
       "version_minor": 0
      },
      "text/plain": [
       "  0%|          | 0/4627 [00:00<?, ?it/s]"
      ]
     },
     "metadata": {},
     "output_type": "display_data"
    },
    {
     "data": {
      "text/plain": [
       "{'hit_rate': 0.9023125135076724, 'mrr': 0.804480945176861}"
      ]
     },
     "execution_count": 33,
     "metadata": {},
     "output_type": "execute_result"
    }
   ],
   "source": [
    "def vector_combined_knn(q):\n",
    "    question = q['question']\n",
    "    course = q['course']\n",
    "\n",
    "    v_q = model.encode(question)\n",
    "\n",
    "    return elastic_search_knn_combined(v_q, course)\n",
    "\n",
    "evaluate(ground_truth, vector_combined_knn)"
   ]
  },
  {
   "cell_type": "code",
   "execution_count": null,
   "id": "806798ff-431e-46a0-8ecd-edd9b688f8e3",
   "metadata": {},
   "outputs": [],
   "source": []
  }
 ],
 "metadata": {
  "kernelspec": {
   "display_name": "Python 3 (ipykernel)",
   "language": "python",
   "name": "python3"
  },
  "language_info": {
   "codemirror_mode": {
    "name": "ipython",
    "version": 3
   },
   "file_extension": ".py",
   "mimetype": "text/x-python",
   "name": "python",
   "nbconvert_exporter": "python",
   "pygments_lexer": "ipython3",
   "version": "3.10.14"
  }
 },
 "nbformat": 4,
 "nbformat_minor": 5
}
