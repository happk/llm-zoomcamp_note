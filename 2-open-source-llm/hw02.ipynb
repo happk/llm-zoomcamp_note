{
 "cells": [
  {
   "cell_type": "markdown",
   "metadata": {},
   "source": [
    "## Q1\n",
    "\n",
    "```bash\n",
    "docker run -it \\\n",
    "    --rm \\\n",
    "    -v ollama:/root/.ollama \\\n",
    "    -p 11434:11434 \\\n",
    "    --name ollama \\\n",
    "    ollama/ollama\n",
    "```\n",
    "Because it already exists, run\n",
    "\n",
    "```bash\n",
    "$ docker start ollama\n",
    "$ docker exec -it ollama bash\n",
    "root@01d092baf753:/# ollama -v\n",
    "```\n",
    "ollama version is 0.1.48"
   ]
  },
  {
   "cell_type": "markdown",
   "metadata": {},
   "source": [
    "## Q2\n",
    "Still in container, \n",
    "```bash\n",
    "root@01d092baf753:/# cd /root/.ollama/models/manifests/registry.ollama.ai/library/gemma/\n",
    "root@01d092baf753:~/.ollama/models/manifests/registry.ollama.ai/library/gemma# cat 2b\n",
    "```\n",
    "Output : \n",
    "```\n",
    "{\n",
    "  \"schemaVersion\": 2,\n",
    "  \"mediaType\": \"application/vnd.docker.distribution.manifest.v2+json\",\n",
    "  \"config\": {\n",
    "    \"mediaType\": \"application/vnd.docker.container.image.v1+json\",\n",
    "    \"digest\": \"sha256:887433b89a901c156f7e6944442f3c9e57f3c55d6ed52042cbb7303aea994290\",\n",
    "    \"size\": 483\n",
    "  },\n",
    "  \"layers\": [\n",
    "    {\n",
    "      \"mediaType\": \"application/vnd.ollama.image.model\",\n",
    "      \"digest\": \"sha256:c1864a5eb19305c40519da12cc543519e48a0697ecd30e15d5ac228644957d12\",\n",
    "      \"size\": 1678447520\n",
    "    },\n",
    "    {\n",
    "      \"mediaType\": \"application/vnd.ollama.image.license\",\n",
    "      \"digest\": \"sha256:097a36493f718248845233af1d3fefe7a303f864fae13bc31a3a9704229378ca\",\n",
    "      \"size\": 8433\n",
    "    },\n",
    "    {\n",
    "      \"mediaType\": \"application/vnd.ollama.image.template\",\n",
    "      \"digest\": \"sha256:109037bec39c0becc8221222ae23557559bc594290945a2c4221ab4f303b8871\",\n",
    "      \"size\": 136\n",
    "    },\n",
    "    {\n",
    "      \"mediaType\": \"application/vnd.ollama.image.params\",\n",
    "      \"digest\": \"sha256:22a838ceb7fb22755a3b0ae9b4eadde629d19be1f651f73efb8c6b4e2cd0eea0\",\n",
    "      \"size\": 84\n",
    "    }\n",
    "  ]\n",
    "}\n",
    "```"
   ]
  }
 ],
 "metadata": {
  "language_info": {
   "name": "python"
  }
 },
 "nbformat": 4,
 "nbformat_minor": 2
}
